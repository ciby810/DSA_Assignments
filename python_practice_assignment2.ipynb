{
  "nbformat": 4,
  "nbformat_minor": 0,
  "metadata": {
    "colab": {
      "provenance": []
    },
    "kernelspec": {
      "name": "python3",
      "display_name": "Python 3"
    },
    "language_info": {
      "name": "python"
    }
  },
  "cells": [
    {
      "cell_type": "code",
      "execution_count": 7,
      "metadata": {
        "colab": {
          "base_uri": "https://localhost:8080/"
        },
        "id": "Ts28JZm3hG8f",
        "outputId": "546f2e53-7dfe-4111-c507-cd08e9fe4da0"
      },
      "outputs": [
        {
          "output_type": "stream",
          "name": "stdout",
          "text": [
            "Enter a string value: assembly\n",
            "a=1, s=2, e=1, m=1, b=1, l=1, y=1, \b\b \n"
          ]
        }
      ],
      "source": [
        "\"\"\"\n",
        "Write a Python program to accept a string value from the user and display\n",
        "the count of each character in that string. Sample input: Enter a string\n",
        "value: assembly Sample output: a=1, s=2, e=1, m=1, b=1, l=1, y=1\n",
        "\"\"\"\n",
        "\n",
        "user_input = input(\"Enter a string value: \")\n",
        "\n",
        "char_count = {}\n",
        "\n",
        "for char in user_input:\n",
        "    if char in char_count:\n",
        "        char_count[char] += 1\n",
        "    else:\n",
        "        char_count[char] = 1\n",
        "\n",
        "for char, count in char_count.items():\n",
        "    print(f\"{char}={count}\", end=\", \")\n",
        "\n",
        "if char_count:\n",
        "    print(\"\\b\\b \")\n",
        "else:\n",
        "    print(\"The string is empty.\")\n"
      ]
    },
    {
      "cell_type": "code",
      "source": [
        "\"\"\"\n",
        "Write a Python program to find the maximum of three numbers\n",
        "Sample input: 34,12,7\n",
        "Sample output: 34\n",
        "\"\"\"\n",
        "\n",
        "num1 = int(input(\"Enter the first number: \"))\n",
        "num2 = int(input(\"Enter the second number: \"))\n",
        "num3 = int(input(\"Enter the third number: \"))\n",
        "\n",
        "max_number = max(num1, num2, num3)\n",
        "\n",
        "print(\"The maximum of the three numbers is:\", max_number)\n"
      ],
      "metadata": {
        "colab": {
          "base_uri": "https://localhost:8080/"
        },
        "id": "W19T5spmhg_T",
        "outputId": "64026e58-e00f-4e5b-c3ef-11fc645666f1"
      },
      "execution_count": 8,
      "outputs": [
        {
          "output_type": "stream",
          "name": "stdout",
          "text": [
            "Enter the first number: 34\n",
            "Enter the second number: 12\n",
            "Enter the third number: 7\n",
            "The maximum of the three numbers is: 34\n"
          ]
        }
      ]
    },
    {
      "cell_type": "code",
      "source": [
        "\"\"\"\n",
        "Write a Python function called exponent(base,exp) that returns an\n",
        "integer value of base raises to the power of exp. Sample input: Enter the\n",
        "base: 2 Enter the exponent: 3 Sample output: 8\n",
        "\"\"\"\n",
        "\n",
        "def exponent(base, exp):\n",
        "    return base ** exp\n",
        "\n",
        "base = int(input(\"Enter the base: \"))\n",
        "exp = int(input(\"Enter the exponent: \"))\n",
        "\n",
        "result = exponent(base, exp)\n",
        "\n",
        "print(f\"{base} raised to the power of {exp} is {result}\")\n"
      ],
      "metadata": {
        "colab": {
          "base_uri": "https://localhost:8080/"
        },
        "id": "aMcKyQzfi6SR",
        "outputId": "14ecbd64-0531-4fe1-f827-b00dfa7aa5f8"
      },
      "execution_count": 9,
      "outputs": [
        {
          "output_type": "stream",
          "name": "stdout",
          "text": [
            "Enter the base: 3\n",
            "Enter the exponent: 2\n",
            "3 raised to the power of 2 is 9\n"
          ]
        }
      ]
    },
    {
      "cell_type": "code",
      "source": [
        "\"\"\"\n",
        "Write a Python function that takes a positive integer and returns the sum\n",
        "of the cube of all the positive integers smaller than the specified number.\n",
        "Sample input: 4 Sample output: 36.\n",
        "\"\"\"\n",
        "\n",
        "def sum_of_cubes(n):\n",
        "    return sum(i ** 3 for i in range(1, n))\n",
        "\n",
        "number = int(input(\"Enter a positive integer: \"))\n",
        "\n",
        "result = sum_of_cubes(number)\n",
        "\n",
        "print(f\"The sum of the cubes of all positive integers smaller than {number} is {result}\")\n"
      ],
      "metadata": {
        "colab": {
          "base_uri": "https://localhost:8080/"
        },
        "id": "lANGyee1jOma",
        "outputId": "b354bfa3-e3c7-4b07-e200-9e97503d1357"
      },
      "execution_count": 10,
      "outputs": [
        {
          "output_type": "stream",
          "name": "stdout",
          "text": [
            "Enter a positive integer: 4\n",
            "The sum of the cubes of all positive integers smaller than 4 is 36\n"
          ]
        }
      ]
    },
    {
      "cell_type": "code",
      "source": [
        "\"\"\"\n",
        "Write a Python program which iterates from 1 to 10. For multiples of 2,\n",
        "print “Fizz” instead of the number and for the multiples of 5, print “Buzz”.\n",
        "For numbers which are multiples of both 2 and 5, print “FizzBuzz”.\n",
        "Sample input: numbers from 1 to 10 Sample output: 1 Fizz 3 Fizz Buzz\n",
        "Fizz 7 Fizz 9 FizzBuzz\n",
        "\"\"\"\n",
        "\n",
        "for i in range(1, 11):\n",
        "    if i % 2 == 0 and i % 5 == 0:\n",
        "        print(\"FizzBuzz\")\n",
        "    elif i % 2 == 0:\n",
        "        print(\"Fizz\")\n",
        "    elif i % 5 == 0:\n",
        "        print(\"Buzz\")\n",
        "    else:\n",
        "        print(i)\n"
      ],
      "metadata": {
        "colab": {
          "base_uri": "https://localhost:8080/"
        },
        "id": "CeSLg_00jmP6",
        "outputId": "b5b4c3e8-f9c0-4daa-ebd9-edce76d72694"
      },
      "execution_count": 11,
      "outputs": [
        {
          "output_type": "stream",
          "name": "stdout",
          "text": [
            "1\n",
            "Fizz\n",
            "3\n",
            "Fizz\n",
            "Buzz\n",
            "Fizz\n",
            "7\n",
            "Fizz\n",
            "9\n",
            "FizzBuzz\n"
          ]
        }
      ]
    },
    {
      "cell_type": "code",
      "source": [
        "\"\"\"\n",
        "Write a Python program to find the most frequent item in a list of\n",
        "numbers. Sample input: 2, 3, 4, 2, 5, 2 Sample output: 2\n",
        "\"\"\"\n",
        "\n",
        "def most_frequent(numbers):\n",
        "    max_count = -1\n",
        "    most_frequent_number = None\n",
        "\n",
        "    for num in numbers:\n",
        "        count = numbers.count(num)\n",
        "        if count > max_count:\n",
        "            max_count = count\n",
        "            most_frequent_number = num\n",
        "\n",
        "    return most_frequent_number\n",
        "\n",
        "user_input = input(\"Enter numbers separated by commas: \")\n",
        "\n",
        "numbers = [int(x) for x in user_input.split(',')]\n",
        "\n",
        "result = most_frequent(numbers)\n",
        "\n",
        "print(\"The most frequent number is:\", result)\n"
      ],
      "metadata": {
        "colab": {
          "base_uri": "https://localhost:8080/"
        },
        "id": "R5tcikSSjtdI",
        "outputId": "efd37b18-0b6a-4101-9626-1da795c68064"
      },
      "execution_count": 12,
      "outputs": [
        {
          "output_type": "stream",
          "name": "stdout",
          "text": [
            "Enter numbers separated by commas: 4,3,5,6,3,3,5\n",
            "The most frequent number is: 3\n"
          ]
        }
      ]
    },
    {
      "cell_type": "code",
      "source": [
        "\"\"\"\n",
        "Write a Python program to find the sum of squares of the numbers in a\n",
        "list. Sample input: 2,1,3,1 Sample output: 15\n",
        "\"\"\"\n",
        "\n",
        "def sum_of_squares(numbers):\n",
        "    return sum(x**2 for x in numbers)\n",
        "\n",
        "user_input = input(\"Enter numbers separated by commas: \")\n",
        "\n",
        "numbers = [int(x) for x in user_input.split(',')]\n",
        "\n",
        "result = sum_of_squares(numbers)\n",
        "\n",
        "print(\"The sum of squares is:\", result)\n"
      ],
      "metadata": {
        "colab": {
          "base_uri": "https://localhost:8080/"
        },
        "id": "N4URuhBQkdVl",
        "outputId": "f3142595-4739-4583-e648-a15f28aead80"
      },
      "execution_count": 13,
      "outputs": [
        {
          "output_type": "stream",
          "name": "stdout",
          "text": [
            "Enter numbers separated by commas: 2,1,3,1\n",
            "The sum of squares is: 15\n"
          ]
        }
      ]
    },
    {
      "cell_type": "code",
      "source": [
        "\"\"\"\n",
        "Write a Python program using for loop that will iterate from 1 to 15. For\n",
        "each iteration, check if the current number is odd or even, and display the\n",
        "message to the screen as odd or even. Sample input: 1….15 Sample\n",
        "output: 1-odd 2-even …. 15-odd\n",
        "\"\"\"\n",
        "\n",
        "for i in range(1, 16):\n",
        "    if i % 2 == 0:\n",
        "        print(f\"{i}-even\")\n",
        "    else:\n",
        "        print(f\"{i}-odd\")\n"
      ],
      "metadata": {
        "colab": {
          "base_uri": "https://localhost:8080/"
        },
        "id": "JjC-gD_xku04",
        "outputId": "a2ba05aa-f075-44dd-b7d6-a0504539e781"
      },
      "execution_count": 14,
      "outputs": [
        {
          "output_type": "stream",
          "name": "stdout",
          "text": [
            "1-odd\n",
            "2-even\n",
            "3-odd\n",
            "4-even\n",
            "5-odd\n",
            "6-even\n",
            "7-odd\n",
            "8-even\n",
            "9-odd\n",
            "10-even\n",
            "11-odd\n",
            "12-even\n",
            "13-odd\n",
            "14-even\n",
            "15-odd\n"
          ]
        }
      ]
    },
    {
      "cell_type": "code",
      "source": [
        "\"\"\"\n",
        "Write a Python program to convert temperatures to and from Celsius\n",
        "Fahrenheit. [Formula: c/5=f-32/9 where c=temperature in Celsius and f=\n",
        "temperature in Fahrenheit.] Sample input: Temperature in Fahrenheit\n",
        "=41 Sample output: Temperature in Celsius =5\n",
        "\"\"\"\n",
        "\n",
        "def celsius_to_fahrenheit(celsius):\n",
        "    return (celsius * 9/5) + 32\n",
        "\n",
        "def fahrenheit_to_celsius(fahrenheit):\n",
        "    return (fahrenheit - 32) * 5/9\n",
        "\n",
        "fahrenheit = float(input(\"Enter temperature in Fahrenheit: \"))\n",
        "\n",
        "celsius = fahrenheit_to_celsius(fahrenheit)\n",
        "print(f\"Temperature in Celsius = {celsius}\")\n",
        "\n",
        "converted_fahrenheit = celsius_to_fahrenheit(celsius)\n",
        "print(f\"Temperature in Fahrenheit = {converted_fahrenheit}\")\n"
      ],
      "metadata": {
        "colab": {
          "base_uri": "https://localhost:8080/"
        },
        "id": "M9st2-TAk3pI",
        "outputId": "f24e98ab-e8d1-45c1-eb22-6bfaf37e0be4"
      },
      "execution_count": 15,
      "outputs": [
        {
          "output_type": "stream",
          "name": "stdout",
          "text": [
            "Enter temperature in Fahrenheit: 41\n",
            "Temperature in Celsius = 5.0\n",
            "Temperature in Fahrenheit = 41.0\n"
          ]
        }
      ]
    },
    {
      "cell_type": "code",
      "source": [
        "\"\"\"\n",
        "Write a Python function to calculate the factorial of a number (a\n",
        "nonnegative integer). The function accepts the number as an argument.\n",
        "Sample input: 3 Sample output: 6\n",
        "\"\"\"\n",
        "\n",
        "def factorial(n):\n",
        "    if n == 0:\n",
        "        return 1\n",
        "    else:\n",
        "        result = 1\n",
        "        for i in range(1, n + 1):\n",
        "            result *= i\n",
        "        return result\n",
        "\n",
        "number = int(input(\"Enter a non-negative integer: \"))\n",
        "\n",
        "fact = factorial(number)\n",
        "print(f\"The factorial of {number} is {fact}\")\n"
      ],
      "metadata": {
        "colab": {
          "base_uri": "https://localhost:8080/"
        },
        "id": "CCVnrSYwlKkt",
        "outputId": "31b90453-ed9e-478c-bfae-974048907009"
      },
      "execution_count": 16,
      "outputs": [
        {
          "output_type": "stream",
          "name": "stdout",
          "text": [
            "Enter a non-negative integer: 3\n",
            "The factorial of 3 is 6\n"
          ]
        }
      ]
    }
  ]
}