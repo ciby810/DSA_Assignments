{
 "cells": [
  {
   "cell_type": "markdown",
   "metadata": {
    "id": "Hmt5hLSnFuQ-"
   },
   "source": [
    "Consider the following Python dictionary `data` and Python list `labels`:\n",
    "\n",
    "``` python\n",
    "data = {'animal': ['cat', 'cat', 'snake', 'dog', 'dog', 'cat', 'snake', 'cat', 'dog', 'dog'],\n",
    "        'age': [2.5, 3, 0.5, np.nan, 5, 2, 4.5, np.nan, 7, 3],\n",
    "        'visits': [1, 3, 2, 3, 2, 3, 1, 1, 2, 1],\n",
    "        'priority': ['yes', 'yes', 'no', 'yes', 'no', 'no', 'no', 'yes', 'no', 'no']}\n",
    "\n",
    "labels = ['a', 'b', 'c', 'd', 'e', 'f', 'g', 'h', 'i', 'j']\n",
    "```\n",
    "\n",
    "**1.** Create a DataFrame `df` from this dictionary `data` which has the index `labels`."
   ]
  },
  {
   "cell_type": "code",
   "execution_count": 1,
   "metadata": {
    "colab": {
     "base_uri": "https://localhost:8080/"
    },
    "id": "i-2HoeEiFuQ_",
    "outputId": "d4a53676-ebac-4dd4-ee1c-c36147af3d20"
   },
   "outputs": [
    {
     "name": "stdout",
     "output_type": "stream",
     "text": [
      "  animal  age  visits priority\n",
      "a    cat  2.5       1      yes\n",
      "b    cat  3.0       3      yes\n",
      "c  snake  0.5       2       no\n",
      "d    dog  NaN       3      yes\n",
      "e    dog  5.0       2       no\n",
      "f    cat  2.0       3       no\n",
      "g  snake  4.5       1       no\n",
      "h    cat  NaN       1      yes\n",
      "i    dog  7.0       2       no\n",
      "j    dog  3.0       1       no\n"
     ]
    }
   ],
   "source": [
    "import pandas as pd\n",
    "import numpy as np\n",
    "\n",
    "data = {'animal': ['cat', 'cat', 'snake', 'dog', 'dog', 'cat', 'snake', 'cat', 'dog', 'dog'],\n",
    "        'age': [2.5, 3, 0.5, np.nan, 5, 2, 4.5, np.nan, 7, 3],\n",
    "        'visits': [1, 3, 2, 3, 2, 3, 1, 1, 2, 1],\n",
    "        'priority': ['yes', 'yes', 'no', 'yes', 'no', 'no', 'no', 'yes', 'no', 'no']}\n",
    "\n",
    "labels = ['a', 'b', 'c', 'd', 'e', 'f', 'g', 'h', 'i', 'j']\n",
    "\n",
    "df = pd.DataFrame(data, index=labels)\n",
    "\n",
    "print(df)\n"
   ]
  },
  {
   "cell_type": "markdown",
   "metadata": {
    "id": "IpKnDID_FuRB"
   },
   "source": [
    "**2.** Display a summary of the basic information about this DataFrame and its data (*hint: there is a single method that can be called on the DataFrame*)."
   ]
  },
  {
   "cell_type": "code",
   "execution_count": 2,
   "metadata": {
    "colab": {
     "base_uri": "https://localhost:8080/"
    },
    "id": "gcovPS3rFuRC",
    "outputId": "923f9003-724d-4848-9915-1c42b58f9eb5"
   },
   "outputs": [
    {
     "name": "stdout",
     "output_type": "stream",
     "text": [
      "<class 'pandas.core.frame.DataFrame'>\n",
      "Index: 10 entries, a to j\n",
      "Data columns (total 4 columns):\n",
      " #   Column    Non-Null Count  Dtype  \n",
      "---  ------    --------------  -----  \n",
      " 0   animal    10 non-null     object \n",
      " 1   age       8 non-null      float64\n",
      " 2   visits    10 non-null     int64  \n",
      " 3   priority  10 non-null     object \n",
      "dtypes: float64(1), int64(1), object(2)\n",
      "memory usage: 400.0+ bytes\n"
     ]
    }
   ],
   "source": [
    "df.info()"
   ]
  },
  {
   "cell_type": "markdown",
   "metadata": {
    "id": "ab1u4T55FuRC"
   },
   "source": [
    "**3.** Return the first 3 rows of the DataFrame `df`."
   ]
  },
  {
   "cell_type": "code",
   "execution_count": 3,
   "metadata": {
    "colab": {
     "base_uri": "https://localhost:8080/"
    },
    "id": "uIcy04PCFuRD",
    "outputId": "875bb201-d6fc-456f-dce5-161dbf0fffbe"
   },
   "outputs": [
    {
     "name": "stdout",
     "output_type": "stream",
     "text": [
      "  animal  age  visits priority\n",
      "a    cat  2.5       1      yes\n",
      "b    cat  3.0       3      yes\n",
      "c  snake  0.5       2       no\n"
     ]
    }
   ],
   "source": [
    "top_three_rows = df.head(3)\n",
    "print(top_three_rows)"
   ]
  },
  {
   "cell_type": "markdown",
   "metadata": {
    "id": "Insh_QRrFuRD"
   },
   "source": [
    "**4.** Display the 'animal' and 'age' columns from the DataFrame `df`"
   ]
  },
  {
   "cell_type": "code",
   "execution_count": 4,
   "metadata": {
    "colab": {
     "base_uri": "https://localhost:8080/"
    },
    "id": "pJ-PHmJ5FuRE",
    "outputId": "6622f362-34bb-4292-8a91-adc668405bcd"
   },
   "outputs": [
    {
     "name": "stdout",
     "output_type": "stream",
     "text": [
      "  animal  age\n",
      "a    cat  2.5\n",
      "b    cat  3.0\n",
      "c  snake  0.5\n",
      "d    dog  NaN\n",
      "e    dog  5.0\n",
      "f    cat  2.0\n",
      "g  snake  4.5\n",
      "h    cat  NaN\n",
      "i    dog  7.0\n",
      "j    dog  3.0\n"
     ]
    }
   ],
   "source": [
    "animal_age_df = df[['animal', 'age']]\n",
    "print(animal_age_df)"
   ]
  },
  {
   "cell_type": "markdown",
   "metadata": {
    "id": "xRORUgdwFuRE"
   },
   "source": [
    "5. Display the data in rows `[3, 4, 8]` *and* in columns `['animal', 'age']'"
   ]
  },
  {
   "cell_type": "code",
   "execution_count": 5,
   "metadata": {
    "colab": {
     "base_uri": "https://localhost:8080/"
    },
    "id": "8Yx-a5yyFuRF",
    "outputId": "092bbb93-b72b-48e3-f7e5-1902da2fff70"
   },
   "outputs": [
    {
     "name": "stdout",
     "output_type": "stream",
     "text": [
      "  animal  age\n",
      "d    dog  NaN\n",
      "e    dog  5.0\n",
      "i    dog  7.0\n"
     ]
    }
   ],
   "source": [
    "selected_data = df.loc[['d', 'e', 'i'], ['animal', 'age']]\n",
    "print(selected_data)"
   ]
  },
  {
   "cell_type": "markdown",
   "metadata": {
    "id": "EwxrthzwFuRF"
   },
   "source": [
    "**6.** Select only the rows where the number of visits is greater than 3."
   ]
  },
  {
   "cell_type": "code",
   "execution_count": 6,
   "metadata": {
    "colab": {
     "base_uri": "https://localhost:8080/"
    },
    "id": "J8tm9hpcFuRF",
    "outputId": "09e4aa8d-05b5-4f71-a545-bc2ba6d30d62"
   },
   "outputs": [
    {
     "name": "stdout",
     "output_type": "stream",
     "text": [
      "Empty DataFrame\n",
      "Columns: [animal, age, visits, priority]\n",
      "Index: []\n"
     ]
    }
   ],
   "source": [
    "filtered_df = df[df['visits'] > 3]\n",
    "print(filtered_df)"
   ]
  },
  {
   "cell_type": "markdown",
   "metadata": {
    "id": "2XhJNfmKFuRF"
   },
   "source": [
    "**7.** Select the rows where the age is missing, i.e. it is `NaN`."
   ]
  },
  {
   "cell_type": "code",
   "execution_count": 7,
   "metadata": {
    "colab": {
     "base_uri": "https://localhost:8080/"
    },
    "id": "0D0NW1Y-FuRG",
    "outputId": "291bc054-8f3c-4b39-e1ca-9974b0e8e480"
   },
   "outputs": [
    {
     "name": "stdout",
     "output_type": "stream",
     "text": [
      "  animal  age  visits priority\n",
      "d    dog  NaN       3      yes\n",
      "h    cat  NaN       1      yes\n"
     ]
    }
   ],
   "source": [
    "missing_age_df = df[df['age'].isna()]\n",
    "print(missing_age_df)"
   ]
  },
  {
   "cell_type": "markdown",
   "metadata": {
    "id": "mjT1t30pFuRG"
   },
   "source": [
    "**8.** Select the rows where the animal is a cat *and* the age is less than 3."
   ]
  },
  {
   "cell_type": "code",
   "execution_count": 8,
   "metadata": {
    "colab": {
     "base_uri": "https://localhost:8080/"
    },
    "id": "llayTxaVFuRG",
    "outputId": "c9ad73be-30c9-44f5-c924-a97e69485202"
   },
   "outputs": [
    {
     "name": "stdout",
     "output_type": "stream",
     "text": [
      "  animal  age  visits priority\n",
      "a    cat  2.5       1      yes\n",
      "f    cat  2.0       3       no\n"
     ]
    }
   ],
   "source": [
    "cat_age = df[(df['animal'] == 'cat') & (df['age'] < 3)]\n",
    "print(cat_age)"
   ]
  },
  {
   "cell_type": "markdown",
   "metadata": {
    "id": "TpFIIG6YFuRG"
   },
   "source": [
    "**9.** Select the rows where the age is between 2 and 4 (inclusive)"
   ]
  },
  {
   "cell_type": "code",
   "execution_count": 9,
   "metadata": {
    "colab": {
     "base_uri": "https://localhost:8080/"
    },
    "id": "DSg6DgMSFuRH",
    "outputId": "84543c33-dde5-4d2d-a5c5-7e6f1814285d"
   },
   "outputs": [
    {
     "name": "stdout",
     "output_type": "stream",
     "text": [
      "  animal  age  visits priority\n",
      "a    cat  2.5       1      yes\n",
      "b    cat  3.0       3      yes\n",
      "f    cat  2.0       3       no\n",
      "j    dog  3.0       1       no\n"
     ]
    }
   ],
   "source": [
    "age_2_and_4 = df[(df['age'] >= 2) & (df['age'] <= 4)]\n",
    "print(age_2_and_4)"
   ]
  },
  {
   "cell_type": "markdown",
   "metadata": {
    "id": "hpRQ38reFuRH"
   },
   "source": [
    "**10.** Change the age in row 'f' to 1.5."
   ]
  },
  {
   "cell_type": "code",
   "execution_count": 10,
   "metadata": {
    "colab": {
     "base_uri": "https://localhost:8080/"
    },
    "id": "_YMVhJ8vFuRH",
    "outputId": "1f3193b7-634c-4772-daeb-c2f00ae6ae81"
   },
   "outputs": [
    {
     "name": "stdout",
     "output_type": "stream",
     "text": [
      "  animal  age  visits priority\n",
      "a    cat  2.5       1      yes\n",
      "b    cat  3.0       3      yes\n",
      "c  snake  0.5       2       no\n",
      "d    dog  NaN       3      yes\n",
      "e    dog  5.0       2       no\n",
      "f    cat  1.5       3       no\n",
      "g  snake  4.5       1       no\n",
      "h    cat  NaN       1      yes\n",
      "i    dog  7.0       2       no\n",
      "j    dog  3.0       1       no\n"
     ]
    }
   ],
   "source": [
    "df.loc['f', 'age'] = 1.5\n",
    "\n",
    "print(df)"
   ]
  },
  {
   "cell_type": "markdown",
   "metadata": {
    "id": "hBWRarrFFuRH"
   },
   "source": [
    "**11.** Calculate the sum of all visits in `df` (i.e. the total number of visits)."
   ]
  },
  {
   "cell_type": "code",
   "execution_count": 11,
   "metadata": {
    "colab": {
     "base_uri": "https://localhost:8080/"
    },
    "id": "f68JlP6vFuRH",
    "outputId": "006baf05-8eba-49b4-a27c-6eb51b11cd3d"
   },
   "outputs": [
    {
     "name": "stdout",
     "output_type": "stream",
     "text": [
      "Total number of visits: 19\n"
     ]
    }
   ],
   "source": [
    "total_visits = df['visits'].sum()\n",
    "\n",
    "print(\"Total number of visits:\", total_visits)"
   ]
  },
  {
   "cell_type": "markdown",
   "metadata": {
    "id": "pS3mMupIFuRH"
   },
   "source": [
    "**12.** Calculate the mean age for each different animal in `df`."
   ]
  },
  {
   "cell_type": "code",
   "execution_count": 12,
   "metadata": {
    "colab": {
     "base_uri": "https://localhost:8080/"
    },
    "id": "DssyUV8LFuRI",
    "outputId": "e2ec982d-32b6-490d-aea2-17f345de02f3"
   },
   "outputs": [
    {
     "name": "stdout",
     "output_type": "stream",
     "text": [
      "Mean age for each animal:\n",
      "animal\n",
      "cat      2.333333\n",
      "dog      5.000000\n",
      "snake    2.500000\n",
      "Name: age, dtype: float64\n"
     ]
    }
   ],
   "source": [
    "mean_age_per_animal = df.groupby('animal')['age'].mean()\n",
    "\n",
    "print(\"Mean age for each animal:\")\n",
    "print(mean_age_per_animal)"
   ]
  },
  {
   "cell_type": "markdown",
   "metadata": {
    "id": "GMR-Ace2FuRI"
   },
   "source": [
    "**13.** Append a new row 'k' to `df` with your choice of values for each column. Then delete that row to return the original DataFrame."
   ]
  },
  {
   "cell_type": "code",
   "execution_count": 13,
   "metadata": {
    "colab": {
     "base_uri": "https://localhost:8080/"
    },
    "id": "P8Qfy0a8FuRI",
    "outputId": "e6c77058-581b-4651-bf0d-44101ab0f473"
   },
   "outputs": [
    {
     "name": "stdout",
     "output_type": "stream",
     "text": [
      "DataFrame after appending row 'k':\n",
      "  animal  age  visits priority\n",
      "a    cat  2.5       1      yes\n",
      "b    cat  3.0       3      yes\n",
      "c  snake  0.5       2       no\n",
      "d    dog  NaN       3      yes\n",
      "e    dog  5.0       2       no\n",
      "f    cat  1.5       3       no\n",
      "g  snake  4.5       1       no\n",
      "h    cat  NaN       1      yes\n",
      "i    dog  7.0       2       no\n",
      "j    dog  3.0       1       no\n",
      "k   bird  1.5       2      yes\n",
      "\n",
      "Original DataFrame after deleting row 'k':\n",
      "  animal  age  visits priority\n",
      "a    cat  2.5       1      yes\n",
      "b    cat  3.0       3      yes\n",
      "c  snake  0.5       2       no\n",
      "d    dog  NaN       3      yes\n",
      "e    dog  5.0       2       no\n",
      "f    cat  1.5       3       no\n",
      "g  snake  4.5       1       no\n",
      "h    cat  NaN       1      yes\n",
      "i    dog  7.0       2       no\n",
      "j    dog  3.0       1       no\n"
     ]
    }
   ],
   "source": [
    "# Append a new row 'k'\n",
    "new_row = pd.DataFrame({'animal': ['bird'], 'age': [1.5], 'visits': [2], 'priority': ['yes']}, index=['k'])\n",
    "df = pd.concat([df, new_row])\n",
    "\n",
    "print(\"DataFrame after appending row 'k':\")\n",
    "print(df)\n",
    "\n",
    "# Delete the appended row 'k' to return the original DataFrame\n",
    "df = df.drop('k')\n",
    "\n",
    "print(\"\\nOriginal DataFrame after deleting row 'k':\")\n",
    "print(df)\n"
   ]
  },
  {
   "cell_type": "markdown",
   "metadata": {
    "id": "GjMKZ4POFuRI"
   },
   "source": [
    "**14.** Count the number of each type of animal in `df`."
   ]
  },
  {
   "cell_type": "code",
   "execution_count": 14,
   "metadata": {
    "colab": {
     "base_uri": "https://localhost:8080/"
    },
    "id": "1ydrxeyNFuRI",
    "outputId": "5c36bbdb-4812-4005-c1d2-b64694e924ef"
   },
   "outputs": [
    {
     "name": "stdout",
     "output_type": "stream",
     "text": [
      "Number of each type of animal:\n",
      "animal\n",
      "cat      4\n",
      "dog      4\n",
      "snake    2\n",
      "Name: count, dtype: int64\n"
     ]
    }
   ],
   "source": [
    "animal_counts = df['animal'].value_counts()\n",
    "\n",
    "print(\"Number of each type of animal:\")\n",
    "print(animal_counts)"
   ]
  },
  {
   "cell_type": "markdown",
   "metadata": {
    "id": "MNBGtMjoFuRI"
   },
   "source": [
    "**15.** Sort `df` first by the values in the 'age' in *decending* order, then by the value in the 'visits' column in *ascending* order (so row `i` should be first, and row `d` should be last)."
   ]
  },
  {
   "cell_type": "code",
   "execution_count": 15,
   "metadata": {
    "colab": {
     "base_uri": "https://localhost:8080/"
    },
    "id": "76tGccYfFuRJ",
    "outputId": "13227637-5f20-4f15-b983-7d29761854f9"
   },
   "outputs": [
    {
     "name": "stdout",
     "output_type": "stream",
     "text": [
      "Sorted DataFrame:\n",
      "  animal  age  visits priority\n",
      "i    dog  7.0       2       no\n",
      "e    dog  5.0       2       no\n",
      "g  snake  4.5       1       no\n",
      "j    dog  3.0       1       no\n",
      "b    cat  3.0       3      yes\n",
      "a    cat  2.5       1      yes\n",
      "f    cat  1.5       3       no\n",
      "c  snake  0.5       2       no\n",
      "h    cat  NaN       1      yes\n",
      "d    dog  NaN       3      yes\n"
     ]
    }
   ],
   "source": [
    "df_sorted = df.sort_values(by=['age', 'visits'], ascending=[False, True])\n",
    "\n",
    "print(\"Sorted DataFrame:\")\n",
    "print(df_sorted)"
   ]
  },
  {
   "cell_type": "markdown",
   "metadata": {
    "id": "5VOktn8PFuRJ"
   },
   "source": [
    "**16.** The 'priority' column contains the values 'yes' and 'no'. Replace this column with a column of boolean values: 'yes' should be `True` and 'no' should be `False`."
   ]
  },
  {
   "cell_type": "code",
   "execution_count": 16,
   "metadata": {
    "colab": {
     "base_uri": "https://localhost:8080/"
    },
    "id": "HUrNuHMfFuRJ",
    "outputId": "639184c0-0efe-43ca-e667-43336444d281"
   },
   "outputs": [
    {
     "name": "stdout",
     "output_type": "stream",
     "text": [
      "DataFrame with boolean priority column:\n",
      "  animal  age  visits  priority\n",
      "a    cat  2.5       1      True\n",
      "b    cat  3.0       3      True\n",
      "c  snake  0.5       2     False\n",
      "d    dog  NaN       3      True\n",
      "e    dog  5.0       2     False\n",
      "f    cat  1.5       3     False\n",
      "g  snake  4.5       1     False\n",
      "h    cat  NaN       1      True\n",
      "i    dog  7.0       2     False\n",
      "j    dog  3.0       1     False\n"
     ]
    }
   ],
   "source": [
    "df['priority'] = df['priority'].replace({'yes': True, 'no': False})\n",
    "\n",
    "print(\"DataFrame with boolean priority column:\")\n",
    "print(df)"
   ]
  },
  {
   "cell_type": "markdown",
   "metadata": {
    "id": "T9MVDUniFuRJ"
   },
   "source": [
    "**17.** In the 'animal' column, change the 'snake' entries to 'python'."
   ]
  },
  {
   "cell_type": "code",
   "execution_count": 17,
   "metadata": {
    "colab": {
     "base_uri": "https://localhost:8080/"
    },
    "id": "pWNj4Vl4FuRJ",
    "outputId": "b06b16b5-35e2-4654-c520-6fd65a38ad6d"
   },
   "outputs": [
    {
     "name": "stdout",
     "output_type": "stream",
     "text": [
      "DataFrame with 'snake' replaced by 'python' in 'animal' column:\n",
      "   animal  age  visits  priority\n",
      "a     cat  2.5       1      True\n",
      "b     cat  3.0       3      True\n",
      "c  python  0.5       2     False\n",
      "d     dog  NaN       3      True\n",
      "e     dog  5.0       2     False\n",
      "f     cat  1.5       3     False\n",
      "g  python  4.5       1     False\n",
      "h     cat  NaN       1      True\n",
      "i     dog  7.0       2     False\n",
      "j     dog  3.0       1     False\n"
     ]
    }
   ],
   "source": [
    "df['animal'] = df['animal'].replace('snake', 'python')\n",
    "\n",
    "print(\"DataFrame with 'snake' replaced by 'python' in 'animal' column:\")\n",
    "print(df)"
   ]
  },
  {
   "cell_type": "markdown",
   "metadata": {
    "id": "poPTWx2rJLu1"
   },
   "source": [
    "**18.** Load the ny-flights dataset to Python"
   ]
  },
  {
   "cell_type": "markdown",
   "metadata": {
    "id": "0QBBKPweN08w"
   },
   "source": []
  },
  {
   "cell_type": "code",
   "execution_count": 32,
   "metadata": {
    "id": "7lGttzsiJLu1"
   },
   "outputs": [
    {
     "data": {
      "text/html": [
       "<div>\n",
       "<style scoped>\n",
       "    .dataframe tbody tr th:only-of-type {\n",
       "        vertical-align: middle;\n",
       "    }\n",
       "\n",
       "    .dataframe tbody tr th {\n",
       "        vertical-align: top;\n",
       "    }\n",
       "\n",
       "    .dataframe thead th {\n",
       "        text-align: right;\n",
       "    }\n",
       "</style>\n",
       "<table border=\"1\" class=\"dataframe\">\n",
       "  <thead>\n",
       "    <tr style=\"text-align: right;\">\n",
       "      <th></th>\n",
       "      <th>fl_date</th>\n",
       "      <th>unique_carrier</th>\n",
       "      <th>airline_id</th>\n",
       "      <th>tail_num</th>\n",
       "      <th>fl_num</th>\n",
       "      <th>origin</th>\n",
       "      <th>dest</th>\n",
       "      <th>dep_time</th>\n",
       "      <th>dep_delay</th>\n",
       "      <th>arr_time</th>\n",
       "      <th>arr_delay</th>\n",
       "      <th>cancelled</th>\n",
       "      <th>arr</th>\n",
       "      <th>dep</th>\n",
       "    </tr>\n",
       "  </thead>\n",
       "  <tbody>\n",
       "    <tr>\n",
       "      <th>0</th>\n",
       "      <td>2014-01-01 00:00:00</td>\n",
       "      <td>AA</td>\n",
       "      <td>19805</td>\n",
       "      <td>N338AA</td>\n",
       "      <td>1</td>\n",
       "      <td>JFK</td>\n",
       "      <td>LAX</td>\n",
       "      <td>914.0</td>\n",
       "      <td>14.0</td>\n",
       "      <td>1238.0</td>\n",
       "      <td>13.0</td>\n",
       "      <td>0.0</td>\n",
       "      <td>2014-01-01 12:38:00</td>\n",
       "      <td>2014-01-01 09:14:00</td>\n",
       "    </tr>\n",
       "    <tr>\n",
       "      <th>1</th>\n",
       "      <td>2014-01-01 00:00:00</td>\n",
       "      <td>AA</td>\n",
       "      <td>19805</td>\n",
       "      <td>N335AA</td>\n",
       "      <td>3</td>\n",
       "      <td>JFK</td>\n",
       "      <td>LAX</td>\n",
       "      <td>1157.0</td>\n",
       "      <td>-3.0</td>\n",
       "      <td>1523.0</td>\n",
       "      <td>13.0</td>\n",
       "      <td>0.0</td>\n",
       "      <td>2014-01-01 15:23:00</td>\n",
       "      <td>2014-01-01 11:57:00</td>\n",
       "    </tr>\n",
       "    <tr>\n",
       "      <th>2</th>\n",
       "      <td>2014-01-01 00:00:00</td>\n",
       "      <td>AA</td>\n",
       "      <td>19805</td>\n",
       "      <td>N327AA</td>\n",
       "      <td>21</td>\n",
       "      <td>JFK</td>\n",
       "      <td>LAX</td>\n",
       "      <td>1902.0</td>\n",
       "      <td>2.0</td>\n",
       "      <td>2224.0</td>\n",
       "      <td>9.0</td>\n",
       "      <td>0.0</td>\n",
       "      <td>2014-01-01 22:24:00</td>\n",
       "      <td>2014-01-01 19:02:00</td>\n",
       "    </tr>\n",
       "    <tr>\n",
       "      <th>3</th>\n",
       "      <td>2014-01-01 00:00:00</td>\n",
       "      <td>AA</td>\n",
       "      <td>19805</td>\n",
       "      <td>N3EHAA</td>\n",
       "      <td>29</td>\n",
       "      <td>LGA</td>\n",
       "      <td>PBI</td>\n",
       "      <td>722.0</td>\n",
       "      <td>-8.0</td>\n",
       "      <td>1014.0</td>\n",
       "      <td>-26.0</td>\n",
       "      <td>0.0</td>\n",
       "      <td>2014-01-01 10:14:00</td>\n",
       "      <td>2014-01-01 07:22:00</td>\n",
       "    </tr>\n",
       "    <tr>\n",
       "      <th>4</th>\n",
       "      <td>2014-01-01 00:00:00</td>\n",
       "      <td>AA</td>\n",
       "      <td>19805</td>\n",
       "      <td>N319AA</td>\n",
       "      <td>117</td>\n",
       "      <td>JFK</td>\n",
       "      <td>LAX</td>\n",
       "      <td>1347.0</td>\n",
       "      <td>2.0</td>\n",
       "      <td>1706.0</td>\n",
       "      <td>1.0</td>\n",
       "      <td>0.0</td>\n",
       "      <td>2014-01-01 17:06:00</td>\n",
       "      <td>2014-01-01 13:47:00</td>\n",
       "    </tr>\n",
       "    <tr>\n",
       "      <th>...</th>\n",
       "      <td>...</td>\n",
       "      <td>...</td>\n",
       "      <td>...</td>\n",
       "      <td>...</td>\n",
       "      <td>...</td>\n",
       "      <td>...</td>\n",
       "      <td>...</td>\n",
       "      <td>...</td>\n",
       "      <td>...</td>\n",
       "      <td>...</td>\n",
       "      <td>...</td>\n",
       "      <td>...</td>\n",
       "      <td>...</td>\n",
       "      <td>...</td>\n",
       "    </tr>\n",
       "    <tr>\n",
       "      <th>20812</th>\n",
       "      <td>2014-01-31 00:00:00</td>\n",
       "      <td>UA</td>\n",
       "      <td>19977</td>\n",
       "      <td>N54711</td>\n",
       "      <td>1253</td>\n",
       "      <td>ROC</td>\n",
       "      <td>ORD</td>\n",
       "      <td>801.0</td>\n",
       "      <td>-4.0</td>\n",
       "      <td>908.0</td>\n",
       "      <td>4.0</td>\n",
       "      <td>0.0</td>\n",
       "      <td>2014-01-31 09:08:00</td>\n",
       "      <td>2014-01-31 08:01:00</td>\n",
       "    </tr>\n",
       "    <tr>\n",
       "      <th>20813</th>\n",
       "      <td>2014-01-31 00:00:00</td>\n",
       "      <td>UA</td>\n",
       "      <td>19977</td>\n",
       "      <td>N77525</td>\n",
       "      <td>1429</td>\n",
       "      <td>LGA</td>\n",
       "      <td>CLE</td>\n",
       "      <td>1522.0</td>\n",
       "      <td>-10.0</td>\n",
       "      <td>1649.0</td>\n",
       "      <td>-31.0</td>\n",
       "      <td>0.0</td>\n",
       "      <td>2014-01-31 16:49:00</td>\n",
       "      <td>2014-01-31 15:22:00</td>\n",
       "    </tr>\n",
       "    <tr>\n",
       "      <th>20814</th>\n",
       "      <td>2014-01-31 00:00:00</td>\n",
       "      <td>UA</td>\n",
       "      <td>19977</td>\n",
       "      <td>N37293</td>\n",
       "      <td>1456</td>\n",
       "      <td>LGA</td>\n",
       "      <td>IAH</td>\n",
       "      <td>719.0</td>\n",
       "      <td>-6.0</td>\n",
       "      <td>1006.0</td>\n",
       "      <td>-20.0</td>\n",
       "      <td>0.0</td>\n",
       "      <td>2014-01-31 10:06:00</td>\n",
       "      <td>2014-01-31 07:19:00</td>\n",
       "    </tr>\n",
       "    <tr>\n",
       "      <th>20815</th>\n",
       "      <td>2014-01-31 00:00:00</td>\n",
       "      <td>UA</td>\n",
       "      <td>19977</td>\n",
       "      <td>N24729</td>\n",
       "      <td>1457</td>\n",
       "      <td>LGA</td>\n",
       "      <td>IAH</td>\n",
       "      <td>852.0</td>\n",
       "      <td>7.0</td>\n",
       "      <td>1156.0</td>\n",
       "      <td>-6.0</td>\n",
       "      <td>0.0</td>\n",
       "      <td>2014-01-31 11:56:00</td>\n",
       "      <td>2014-01-31 08:52:00</td>\n",
       "    </tr>\n",
       "    <tr>\n",
       "      <th>20816</th>\n",
       "      <td>2014-01-31 00:00:00</td>\n",
       "      <td>MQ</td>\n",
       "      <td>20398</td>\n",
       "      <td>N609MQ</td>\n",
       "      <td>3699</td>\n",
       "      <td>BUF</td>\n",
       "      <td>ORD</td>\n",
       "      <td>1208.0</td>\n",
       "      <td>-12.0</td>\n",
       "      <td>1251.0</td>\n",
       "      <td>-19.0</td>\n",
       "      <td>0.0</td>\n",
       "      <td>2014-01-31 12:51:00</td>\n",
       "      <td>2014-01-31 12:08:00</td>\n",
       "    </tr>\n",
       "  </tbody>\n",
       "</table>\n",
       "<p>20817 rows × 14 columns</p>\n",
       "</div>"
      ],
      "text/plain": [
       "                   fl_date unique_carrier  airline_id tail_num  fl_num origin  \\\n",
       "0      2014-01-01 00:00:00             AA       19805   N338AA       1    JFK   \n",
       "1      2014-01-01 00:00:00             AA       19805   N335AA       3    JFK   \n",
       "2      2014-01-01 00:00:00             AA       19805   N327AA      21    JFK   \n",
       "3      2014-01-01 00:00:00             AA       19805   N3EHAA      29    LGA   \n",
       "4      2014-01-01 00:00:00             AA       19805   N319AA     117    JFK   \n",
       "...                    ...            ...         ...      ...     ...    ...   \n",
       "20812  2014-01-31 00:00:00             UA       19977   N54711    1253    ROC   \n",
       "20813  2014-01-31 00:00:00             UA       19977   N77525    1429    LGA   \n",
       "20814  2014-01-31 00:00:00             UA       19977   N37293    1456    LGA   \n",
       "20815  2014-01-31 00:00:00             UA       19977   N24729    1457    LGA   \n",
       "20816  2014-01-31 00:00:00             MQ       20398   N609MQ    3699    BUF   \n",
       "\n",
       "      dest  dep_time  dep_delay  arr_time  arr_delay  cancelled  \\\n",
       "0      LAX     914.0       14.0    1238.0       13.0        0.0   \n",
       "1      LAX    1157.0       -3.0    1523.0       13.0        0.0   \n",
       "2      LAX    1902.0        2.0    2224.0        9.0        0.0   \n",
       "3      PBI     722.0       -8.0    1014.0      -26.0        0.0   \n",
       "4      LAX    1347.0        2.0    1706.0        1.0        0.0   \n",
       "...    ...       ...        ...       ...        ...        ...   \n",
       "20812  ORD     801.0       -4.0     908.0        4.0        0.0   \n",
       "20813  CLE    1522.0      -10.0    1649.0      -31.0        0.0   \n",
       "20814  IAH     719.0       -6.0    1006.0      -20.0        0.0   \n",
       "20815  IAH     852.0        7.0    1156.0       -6.0        0.0   \n",
       "20816  ORD    1208.0      -12.0    1251.0      -19.0        0.0   \n",
       "\n",
       "                       arr                  dep  \n",
       "0      2014-01-01 12:38:00  2014-01-01 09:14:00  \n",
       "1      2014-01-01 15:23:00  2014-01-01 11:57:00  \n",
       "2      2014-01-01 22:24:00  2014-01-01 19:02:00  \n",
       "3      2014-01-01 10:14:00  2014-01-01 07:22:00  \n",
       "4      2014-01-01 17:06:00  2014-01-01 13:47:00  \n",
       "...                    ...                  ...  \n",
       "20812  2014-01-31 09:08:00  2014-01-31 08:01:00  \n",
       "20813  2014-01-31 16:49:00  2014-01-31 15:22:00  \n",
       "20814  2014-01-31 10:06:00  2014-01-31 07:19:00  \n",
       "20815  2014-01-31 11:56:00  2014-01-31 08:52:00  \n",
       "20816  2014-01-31 12:51:00  2014-01-31 12:08:00  \n",
       "\n",
       "[20817 rows x 14 columns]"
      ]
     },
     "execution_count": 32,
     "metadata": {},
     "output_type": "execute_result"
    }
   ],
   "source": [
    "import numpy as np \n",
    "import pandas as pd\n",
    "\n",
    "dataframe = pd.read_csv(r'C:\\Users\\bless\\Downloads\\ny-flights.csv')\n",
    "dataframe"
   ]
  },
  {
   "cell_type": "markdown",
   "metadata": {
    "id": "TjRtc9PoJLu1"
   },
   "source": [
    "19. Which airline ID is present maximum times in the dataset"
   ]
  },
  {
   "cell_type": "code",
   "execution_count": 34,
   "metadata": {
    "colab": {
     "base_uri": "https://localhost:8080/"
    },
    "id": "AB2eIAH9JLu1",
    "outputId": "0857f500-9403-4ff6-b81e-0109e71d9390"
   },
   "outputs": [
    {
     "name": "stdout",
     "output_type": "stream",
     "text": [
      "The airline ID present maximum times in the dataset is: 20409\n"
     ]
    }
   ],
   "source": [
    "airline_counts = dataframe['airline_id'].value_counts()\n",
    "\n",
    "# Get the airline_id with the maximum count\n",
    "max_airline_id = airline_counts.idxmax()\n",
    "\n",
    "print(f\"The airline ID present maximum times in the dataset is: {max_airline_id}\")"
   ]
  },
  {
   "cell_type": "markdown",
   "metadata": {
    "id": "xmGBvfBJJLu1"
   },
   "source": [
    "\n",
    "\n",
    "```\n",
    "# This is formatted as code\n",
    "```\n",
    "\n",
    "**20.** Draw a plot between dep_delay and arr_delay"
   ]
  },
  {
   "cell_type": "code",
   "execution_count": 37,
   "metadata": {
    "id": "PToYsWNsJLu2"
   },
   "outputs": [],
   "source": [
    "import matplotlib.pyplot as plt"
   ]
  },
  {
   "cell_type": "code",
   "execution_count": 38,
   "metadata": {
    "colab": {
     "base_uri": "https://localhost:8080/",
     "height": 607
    },
    "id": "Ucb_20ofOzUA",
    "outputId": "8672162d-07fa-4091-cd63-aff7e29014bf"
   },
   "outputs": [
    {
     "data": {
      "image/png": "[encoded data removed]",
      "text/plain": [
       "<Figure size 1000x600 with 1 Axes>"
      ]
     },
     "metadata": {},
     "output_type": "display_data"
    }
   ],
   "source": [
    "plt.figure(figsize=(10, 6))\n",
    "plt.scatter(dataframe['dep_delay'], dataframe['arr_delay'], alpha=0.5, marker='o', color='b')\n",
    "plt.title('Departure Delay vs Arrival Delay')\n",
    "plt.xlabel('Departure Delay (minutes)')\n",
    "plt.ylabel('Arrival Delay (minutes)')\n",
    "plt.grid(True)\n",
    "plt.tight_layout()\n",
    "\n",
    "plt.show()"
   ]
  },
  {
   "cell_type": "code",
   "execution_count": 39,
   "metadata": {},
   "outputs": [
    {
     "data": {
      "text/plain": [
       "<Axes: xlabel='dep_delay', ylabel='arr_delay'>"
      ]
     },
     "execution_count": 39,
     "metadata": {},
     "output_type": "execute_result"
    },
    {
     "data": {
      "image/png": "[encoded data removed]",
      "text/plain": [
       "<Figure size 640x480 with 1 Axes>"
      ]
     },
     "metadata": {},
     "output_type": "display_data"
    }
   ],
   "source": [
    "import seaborn as sns\n",
    "sns.boxplot(x='dep_delay', y= 'arr_delay',data=dataframe)"
   ]
  },
  {
   "cell_type": "code",
   "execution_count": 41,
   "metadata": {},
   "outputs": [
    {
     "name": "stderr",
     "output_type": "stream",
     "text": [
      "C:\\ProgramData\\anaconda3\\Lib\\site-packages\\seaborn\\algorithms.py:98: RuntimeWarning: Mean of empty slice\n",
      "  boot_dist.append(f(*sample, **func_kwargs))\n"
     ]
    },
    {
     "data": {
      "text/plain": [
       "<Axes: xlabel='dep_delay', ylabel='arr_delay'>"
      ]
     },
     "execution_count": 41,
     "metadata": {},
     "output_type": "execute_result"
    },
    {
     "data": {
      "image/png": "[encoded data removed]",
      "text/plain": [
       "<Figure size 640x480 with 1 Axes>"
      ]
     },
     "metadata": {},
     "output_type": "display_data"
    }
   ],
   "source": [
    "import seaborn as sns\n",
    "sns.barplot(x='dep_delay', y= 'arr_delay',data=dataframe)"
   ]
  },
  {
   "cell_type": "code",
   "execution_count": null,
   "metadata": {},
   "outputs": [],
   "source": []
  },
  {
   "cell_type": "code",
   "execution_count": null,
   "metadata": {},
   "outputs": [],
   "source": []
  }
 ],
 "metadata": {
  "colab": {
   "provenance": [],
   "toc_visible": true
  },
  "kernelspec": {
   "display_name": "Python 3 (ipykernel)",
   "language": "python",
   "name": "python3"
  },
  "language_info": {
   "codemirror_mode": {
    "name": "ipython",
    "version": 3
   },
   "file_extension": ".py",
   "mimetype": "text/x-python",
   "name": "python",
   "nbconvert_exporter": "python",
   "pygments_lexer": "ipython3",
   "version": "3.11.7"
  }
 },
 "nbformat": 4,
 "nbformat_minor": 1
}
