{
  "nbformat": 4,
  "nbformat_minor": 0,
  "metadata": {
    "colab": {
      "provenance": []
    },
    "kernelspec": {
      "name": "python3",
      "display_name": "Python 3"
    },
    "language_info": {
      "name": "python"
    }
  },
  "cells": [
    {
      "cell_type": "code",
      "execution_count": 2,
      "metadata": {
        "colab": {
          "base_uri": "https://localhost:8080/"
        },
        "id": "W3OnD0SBFgvt",
        "outputId": "34bb4d66-2010-4c91-dd30-549e0d70cd83"
      },
      "outputs": [
        {
          "output_type": "stream",
          "name": "stdout",
          "text": [
            "Enter the radius: 3\n",
            "Area of Circle is 28.274309999999996\n"
          ]
        }
      ],
      "source": [
        "\"\"\"\n",
        "Write a Python program which accepts the radius of a circle from the user\n",
        "and compute the area.\n",
        "Sample input: Enter the radius: 3\n",
        "Sample output: Area of Circle is 28.59999999999\n",
        "\"\"\"\n",
        "def area_of_circle(radius):\n",
        "    pi = 3.14159  # Approximate value of pi\n",
        "    area = pi * radius * radius\n",
        "    return area\n",
        "\n",
        "radius = float(input(\"Enter the radius: \"))\n",
        "\n",
        "area = area_of_circle(radius)\n",
        "\n",
        "print(f\"Area of Circle is {area}\")\n"
      ]
    },
    {
      "cell_type": "code",
      "source": [
        "\"\"\"\n",
        "Write a Python Program to accept the details of a student like name, roll\n",
        "number and mark and display it.\n",
        "Sample input: Enter the name: Anisha\n",
        "Enter the roll number: 21\n",
        "Enter the mark: 78\n",
        "Sample output: Name: Anisha\n",
        "Roll No: 21\n",
        "Mark: 78\n",
        "\"\"\"\n",
        "\n",
        "def student_details():\n",
        "    name = input(\"Enter the name: \")\n",
        "    roll_number = input(\"Enter the roll number: \")\n",
        "    mark = input(\"Enter the mark: \")\n",
        "\n",
        "    print(\"\\nStudent Details:\")\n",
        "    print(f\"Name: {name}\")\n",
        "    print(f\"Roll No: {roll_number}\")\n",
        "    print(f\"Mark: {mark}\")\n",
        "\n",
        "student_details()\n"
      ],
      "metadata": {
        "colab": {
          "base_uri": "https://localhost:8080/"
        },
        "id": "ajjIa8luHDeb",
        "outputId": "97e89968-e584-408c-d099-34b8997f1c28"
      },
      "execution_count": 3,
      "outputs": [
        {
          "output_type": "stream",
          "name": "stdout",
          "text": [
            "Enter the name: Anisha\n",
            "Enter the roll number: 21\n",
            "Enter the mark: 78\n",
            "\n",
            "Student Details:\n",
            "Name: Anisha\n",
            "Roll No: 21\n",
            "Mark: 78\n"
          ]
        }
      ]
    },
    {
      "cell_type": "code",
      "source": [
        "\"\"\"\n",
        "Write a Python program to get the largest number from a list.\n",
        "Sample input: 12, 3, 47, 10\n",
        "Sample output: 47 is the largest number.\n",
        "\"\"\"\n",
        "\n",
        "def largest_number(numbers):\n",
        "    largest_number = max(numbers)\n",
        "    return largest_number\n",
        "\n",
        "user_input = input(\"Enter numbers separated by commas: \")\n",
        "\n",
        "numbers = list(map(int, user_input.split(',')))\n",
        "\n",
        "largest_number = largest_number(numbers)\n",
        "\n",
        "print(f\"{largest_number} is the largest number.\")\n",
        "\n"
      ],
      "metadata": {
        "colab": {
          "base_uri": "https://localhost:8080/"
        },
        "id": "8f41ul-yHgrZ",
        "outputId": "5bac801b-cc26-4cfb-b6d3-9f332867dc33"
      },
      "execution_count": 5,
      "outputs": [
        {
          "output_type": "stream",
          "name": "stdout",
          "text": [
            "Enter numbers separated by commas: 21,34,54,12\n",
            "54 is the largest number.\n"
          ]
        }
      ]
    },
    {
      "cell_type": "code",
      "source": [
        "\"\"\"\n",
        "Given a range of first 10 numbers, write a Python program to iterate from\n",
        "start number to the end number and print the sum of the current number\n",
        "and previous number.\n",
        "Sample input: 1….10\n",
        "Sample output: Current Number 1 Previous Number 0 Sum: 1 Current\n",
        "Number 2 Previous Number 1 Sum: 3 Current Number 3 Previous\n",
        "Number 2 Sum: 5… Current Number 10 Previous Number 9 Sum: 19\n",
        "\"\"\"\n",
        "\n",
        "def sum_of_current_and_previous(start, end):\n",
        "    previous_number = 0\n",
        "    for current_number in range(start, end + 1):\n",
        "        sum_numbers = current_number + previous_number\n",
        "        print(f\"Current Number {current_number} Previous Number {previous_number} Sum: {sum_numbers}\")\n",
        "        previous_number = current_number\n",
        "\n",
        "start_number = int(input(\"Enter the start number: \"))\n",
        "end_number = int(input(\"Enter the end number: \"))\n",
        "\n",
        "sum_of_current_and_previous(start_number, end_number)\n",
        "\n"
      ],
      "metadata": {
        "colab": {
          "base_uri": "https://localhost:8080/"
        },
        "id": "-uZWUea-IakI",
        "outputId": "a7d28f49-81a8-42ad-8639-e25822636f9b"
      },
      "execution_count": 7,
      "outputs": [
        {
          "output_type": "stream",
          "name": "stdout",
          "text": [
            "Enter the start number: 2\n",
            "Enter the end number: 6\n",
            "Current Number 2 Previous Number 0 Sum: 2\n",
            "Current Number 3 Previous Number 2 Sum: 5\n",
            "Current Number 4 Previous Number 3 Sum: 7\n",
            "Current Number 5 Previous Number 4 Sum: 9\n",
            "Current Number 6 Previous Number 5 Sum: 11\n"
          ]
        }
      ]
    },
    {
      "cell_type": "code",
      "source": [
        "\"\"\"\n",
        ". Write a Python program to print only those numbers which are divisible\n",
        "of 5.\n",
        "Sample input: 10, 20,33,46,55 Sample output: 10, 20, 55\n",
        "\"\"\"\n",
        "def print_divisible_by_5(numbers):\n",
        "    divisible_by_5 = [num for num in numbers if num % 5 == 0]\n",
        "    print(\"Numbers divisible by 5: \", ', '.join(map(str, divisible_by_5)))\n",
        "\n",
        "input_numbers = input(\"Enter the numbers separated by commas: \")\n",
        "\n",
        "numbers_list = list(map(int, input_numbers.split(',')))\n",
        "\n",
        "print_divisible_by_5(numbers_list)\n"
      ],
      "metadata": {
        "colab": {
          "base_uri": "https://localhost:8080/"
        },
        "id": "GUIU6MUmJQvz",
        "outputId": "678af171-aba7-448b-92c4-2c8003d5eedb"
      },
      "execution_count": 10,
      "outputs": [
        {
          "output_type": "stream",
          "name": "stdout",
          "text": [
            "Enter the numbers separated by commas: 10,89\n",
            "Numbers divisible by 5:  10\n"
          ]
        }
      ]
    },
    {
      "cell_type": "code",
      "source": [
        "\"\"\"\n",
        "Write a Python program to check whether a number is prime or not.\n",
        "Sample input: Enter the number: 3\n",
        "Sample output: 3 is a prime number\n",
        "\"\"\"\n",
        "\n",
        "def is_prime(num):\n",
        "    if num <= 1:\n",
        "        return False\n",
        "    for i in range(2, int(num**0.5) + 1):\n",
        "        if num % i == 0:\n",
        "            return False\n",
        "    return True\n",
        "\n",
        "number = int(input(\"Enter the number: \"))\n",
        "\n",
        "if is_prime(number):\n",
        "    print(f\"{number} is a prime number\")\n",
        "else:\n",
        "    print(f\"{number} is not a prime number\")\n"
      ],
      "metadata": {
        "colab": {
          "base_uri": "https://localhost:8080/"
        },
        "id": "bWWeD255JujF",
        "outputId": "912cff82-3e42-40c7-aa80-cc79ef4cf663"
      },
      "execution_count": 11,
      "outputs": [
        {
          "output_type": "stream",
          "name": "stdout",
          "text": [
            "Enter the number: 3\n",
            "3 is a prime number\n"
          ]
        }
      ]
    },
    {
      "cell_type": "code",
      "source": [
        "\"\"\"\n",
        "Write a Python program to reverse a list using for loop.\n",
        "Sample input: 10,40,30,70\n",
        "Sample output: 70,30,40,10\n",
        "\"\"\"\n",
        "\n",
        "def reverse_list(lst):\n",
        "    reversed_list = []\n",
        "    for i in range(len(lst) - 1, -1, -1):\n",
        "        reversed_list.append(lst[i])\n",
        "    return reversed_list\n",
        "\n",
        "# Get the list from the user\n",
        "lst = input(\"Enter the list of numbers separated by commas: \").split(',')\n",
        "lst = [int(num) for num in lst]\n",
        "\n",
        "# Reverse the list using the reverse_list function\n",
        "reversed_lst = reverse_list(lst)\n",
        "\n",
        "# Print the reversed list\n",
        "print(\"Reversed list:\", ','.join(map(str, reversed_lst)))\n"
      ],
      "metadata": {
        "colab": {
          "base_uri": "https://localhost:8080/"
        },
        "id": "JHe_5YsIJ7_s",
        "outputId": "80069d0e-293e-4c6d-ffd3-2a8aad023b69"
      },
      "execution_count": 12,
      "outputs": [
        {
          "output_type": "stream",
          "name": "stdout",
          "text": [
            "Enter the list of numbers separated by commas: 21,43,61,12\n",
            "Reversed list: 12,61,43,21\n"
          ]
        }
      ]
    },
    {
      "cell_type": "code",
      "source": [
        "\"\"\"\n",
        "Write a Python program to print the following pattern.\n",
        "*\n",
        "**\n",
        "***\n",
        "****\n",
        "\"\"\"\n",
        "\n",
        "def print_pattern(n):\n",
        "    for i in range(1, n + 1):\n",
        "        print('*' * i)\n",
        "\n",
        "# Get user input for the number of rows\n",
        "rows = int(input(\"Enter the number of rows: \"))\n",
        "\n",
        "# Print the pattern\n",
        "print_pattern(rows)\n"
      ],
      "metadata": {
        "colab": {
          "base_uri": "https://localhost:8080/"
        },
        "id": "uxNg3cS3KPPl",
        "outputId": "83d5dcc4-88aa-4c28-96d3-a92bd2b13e7c"
      },
      "execution_count": 13,
      "outputs": [
        {
          "output_type": "stream",
          "name": "stdout",
          "text": [
            "Enter the number of rows: 5\n",
            "*\n",
            "**\n",
            "***\n",
            "****\n",
            "*****\n"
          ]
        }
      ]
    },
    {
      "cell_type": "code",
      "source": [
        "\"\"\"\n",
        "Write a Python program to find the maximum of three numbers\n",
        "Sample input: 34,12,7\n",
        "Sample output: 34\n",
        "\"\"\"\n",
        "\n",
        "num1 = int(input(\"Enter the first number: \"))\n",
        "num2 = int(input(\"Enter the second number: \"))\n",
        "num3 = int(input(\"Enter the third number: \"))\n",
        "\n",
        "max_number = max(num1, num2, num3)\n",
        "\n",
        "print(\"The maximum of the three numbers is:\", max_number)\n"
      ],
      "metadata": {
        "colab": {
          "base_uri": "https://localhost:8080/"
        },
        "id": "5-oJYvEkKfY3",
        "outputId": "5353fd6b-4100-4692-e54f-645cbbc55711"
      },
      "execution_count": 15,
      "outputs": [
        {
          "output_type": "stream",
          "name": "stdout",
          "text": [
            "Enter the first number: 21\n",
            "Enter the second number: 34\n",
            "Enter the third number: 61\n",
            "The maximum of the three numbers is: 61\n"
          ]
        }
      ]
    },
    {
      "cell_type": "code",
      "source": [
        "\"\"\"\n",
        "Write a Python program to construct the following pattern, using a\n",
        "nested for loop.\n",
        "*\n",
        "**\n",
        "***\n",
        "****\n",
        "*****\n",
        "****\n",
        "***\n",
        "**\n",
        "*\n",
        "\"\"\"\n",
        "\n",
        "def print_pattern(rows):\n",
        "    for i in range(1, rows + 1):\n",
        "        print('*' * i)\n",
        "    for i in range(rows - 1, 0, -1):\n",
        "        print('*' * i)\n",
        "\n",
        "rows = int(input(\"Enter the number of rows: \"))\n",
        "\n",
        "print_pattern(rows)\n"
      ],
      "metadata": {
        "colab": {
          "base_uri": "https://localhost:8080/"
        },
        "id": "mH2Xi_NeK0Zu",
        "outputId": "e5fa88af-fbc6-47a3-9252-ef64b4f838ef"
      },
      "execution_count": 16,
      "outputs": [
        {
          "output_type": "stream",
          "name": "stdout",
          "text": [
            "Enter the number of rows: 5\n",
            "*\n",
            "**\n",
            "***\n",
            "****\n",
            "*****\n",
            "****\n",
            "***\n",
            "**\n",
            "*\n"
          ]
        }
      ]
    }
  ]
}